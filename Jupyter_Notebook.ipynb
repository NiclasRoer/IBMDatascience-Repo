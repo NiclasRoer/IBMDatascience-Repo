{
 "cells": [
  {
   "cell_type": "markdown",
   "metadata": {},
   "source": [
    "<center>\n",
    "    <img src=\"https://s3-api.us-geo.objectstorage.softlayer.net/cf-courses-data/CognitiveClass/Logos/organization_logo/organization_logo.png\" width=\"300\" alt=\"cognitiveclass.ai logo\"  />\n",
    "</center>\n"
   ]
  },
  {
   "cell_type": "markdown",
   "metadata": {
    "tags": []
   },
   "source": [
    "#### Add your code below following the instructions given in the course\n"
   ]
  },
  {
   "cell_type": "markdown",
   "metadata": {},
   "source": [
    "# My Jupyter Notebook on IBM Watson Studio"
   ]
  },
  {
   "cell_type": "markdown",
   "metadata": {},
   "source": [
    "My name is **Niclas Roer** I'm a medical engineer who changed his career into software development and now wants to specialize in Data Science."
   ]
  },
  {
   "cell_type": "markdown",
   "metadata": {},
   "source": [
    "*Machine learning always fascinated me and is actually the reason I transitioned from my engineering background into computer science. To get a deeper understanding of learning mechanisms, data scientists elaborate knowledge in a fascinating and creative way. This is not only inspiring for me, I want use my own skills in engineering and medicine and provide even more creative ways to learn more about this world.*"
   ]
  },
  {
   "cell_type": "markdown",
   "metadata": {},
   "source": [
    "### The following code sorts a list of integers given in the variable x:"
   ]
  },
  {
   "cell_type": "code",
   "execution_count": 3,
   "metadata": {},
   "outputs": [
    {
     "name": "stdout",
     "output_type": "stream",
     "text": [
      "[0, 1, 2, 3, 4, 5, 7, 8, 9]\n"
     ]
    }
   ],
   "source": [
    "x = [0, 3, 5, 7, 2, 4, 8, 1, 9]\n",
    "x.sort()\n",
    "print(x)"
   ]
  },
  {
   "cell_type": "markdown",
   "metadata": {},
   "source": [
    "<img src=\"https://www.python.org/static/community_logos/python-logo-master-v3-TM.png\" title=\"Python Logo\"/>\n",
    "\n",
    "\n",
    "<a href=\"https://www.python.org/static/community_logos/python-logo-master-v3-TM.png\">Path to the picture</a>\n",
    "<blockquote>\n",
    "<p>This is blockquote 1</p>\n",
    "<blockquote>\n",
    "<p>this is blockquote 2</p>\n",
    "<blockquote>\n",
    "<p>and here are some bulletpoints:\n",
    "    <ul>\n",
    " <li>Python</li>\n",
    " <li>C++</li>\n",
    " <li>Javascript</li>\n",
    " </ul>\n",
    "    </p>\n",
    "</blockquote>\n",
    "</blockquote>\n",
    "</blockquote>\n",
    "\n",
    "\n",
    " \n"
   ]
  },
  {
   "cell_type": "code",
   "execution_count": null,
   "metadata": {},
   "outputs": [],
   "source": []
  }
 ],
 "metadata": {
  "kernelspec": {
   "display_name": "Python",
   "language": "python",
   "name": "conda-env-python-py"
  },
  "language_info": {
   "codemirror_mode": {
    "name": "ipython",
    "version": 3
   },
   "file_extension": ".py",
   "mimetype": "text/x-python",
   "name": "python",
   "nbconvert_exporter": "python",
   "pygments_lexer": "ipython3",
   "version": "3.7.12"
  }
 },
 "nbformat": 4,
 "nbformat_minor": 4
}
